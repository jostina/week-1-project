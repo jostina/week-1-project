{
  "nbformat": 4,
  "nbformat_minor": 0,
  "metadata": {
    "colab": {
      "provenance": []
    },
    "kernelspec": {
      "name": "python3",
      "display_name": "Python 3"
    },
    "language_info": {
      "name": "python"
    }
  },
  "cells": [
    {
      "cell_type": "code",
      "execution_count": 1,
      "metadata": {
        "colab": {
          "base_uri": "https://localhost:8080/"
        },
        "id": "SKVI4rBFiRnL",
        "outputId": "568d1904-8d25-4dc7-e72c-2530d30d2c6b"
      },
      "outputs": [
        {
          "output_type": "stream",
          "name": "stdout",
          "text": [
            "Requirement already satisfied: pandas in /usr/local/lib/python3.10/dist-packages (2.1.4)\n",
            "\u001b[31mERROR: Could not find a version that satisfies the requirement sqlite3 (from versions: none)\u001b[0m\u001b[31m\n",
            "\u001b[0m\u001b[31mERROR: No matching distribution found for sqlite3\u001b[0m\u001b[31m\n",
            "\u001b[0m"
          ]
        }
      ],
      "source": [
        "pip install pandas sqlite3"
      ]
    },
    {
      "cell_type": "code",
      "source": [
        "import pandas as pd\n",
        "import sqlite3"
      ],
      "metadata": {
        "id": "Kv2Ih8-uixkG"
      },
      "execution_count": 2,
      "outputs": []
    },
    {
      "cell_type": "code",
      "source": [
        "df = pd.read_csv('/content/1. Weather Data.csv')"
      ],
      "metadata": {
        "id": "vmOzfdKei1Rq"
      },
      "execution_count": 3,
      "outputs": []
    },
    {
      "cell_type": "code",
      "source": [
        "# Connect to SQLite database (or create it)\n",
        "conn = sqlite3.connect('weather_data.db')\n",
        "cursor = conn.cursor()"
      ],
      "metadata": {
        "id": "Oc4wi6E8jAdR"
      },
      "execution_count": 4,
      "outputs": []
    },
    {
      "cell_type": "code",
      "source": [
        "# Load DataFrame into SQLite database\n",
        "df.to_sql('weather', conn, if_exists='replace', index=False)"
      ],
      "metadata": {
        "colab": {
          "base_uri": "https://localhost:8080/"
        },
        "id": "naSiHbaJjDdC",
        "outputId": "5dc6cd4d-1f83-43ae-c349-139d90d3ae66"
      },
      "execution_count": 5,
      "outputs": [
        {
          "output_type": "execute_result",
          "data": {
            "text/plain": [
              "8784"
            ]
          },
          "metadata": {},
          "execution_count": 5
        }
      ]
    },
    {
      "cell_type": "code",
      "source": [
        "# Commit changes and close connection\n",
        "conn.commit()\n",
        "conn.close()"
      ],
      "metadata": {
        "id": "dz7qxsQxjGAc"
      },
      "execution_count": 6,
      "outputs": []
    },
    {
      "cell_type": "code",
      "source": [
        "import sqlite3"
      ],
      "metadata": {
        "id": "PQsT1FLijJjT"
      },
      "execution_count": 7,
      "outputs": []
    },
    {
      "cell_type": "code",
      "source": [
        "# Connect to SQLite database\n",
        "conn = sqlite3.connect('weather_data.db')\n",
        "cursor = conn.cursor()"
      ],
      "metadata": {
        "id": "It4-2xUdjMV6"
      },
      "execution_count": 8,
      "outputs": []
    },
    {
      "cell_type": "code",
      "source": [
        "\n",
        "# 1. Find all records where the weather was exactly clear.\n",
        "query_1 = \"\"\"\n",
        "SELECT * FROM weather\n",
        "WHERE Weather = 'Clear';\n",
        "\"\"\""
      ],
      "metadata": {
        "id": "YCMnQvwpjPDy"
      },
      "execution_count": 9,
      "outputs": []
    },
    {
      "cell_type": "code",
      "source": [
        "clear_weather_records = pd.read_sql_query(query_1, conn)\n",
        "print(\"Records where the weather was exactly clear:\")\n",
        "print(clear_weather_records)"
      ],
      "metadata": {
        "colab": {
          "base_uri": "https://localhost:8080/"
        },
        "id": "Y_mruHMujR7a",
        "outputId": "069fd5fa-77e0-4b52-f466-486250e460fa"
      },
      "execution_count": 10,
      "outputs": [
        {
          "output_type": "stream",
          "name": "stdout",
          "text": [
            "Records where the weather was exactly clear:\n",
            "             Date/Time  Temp_C  Dew Point Temp_C  Rel Hum_%  Wind Speed_km/h  \\\n",
            "0       1/3/2012 19:00   -16.9             -24.8         50               24   \n",
            "1       1/5/2012 18:00    -7.1             -14.4         56               11   \n",
            "2       1/5/2012 19:00    -9.2             -15.4         61                7   \n",
            "3       1/5/2012 20:00    -9.8             -15.7         62                9   \n",
            "4       1/5/2012 21:00    -9.0             -14.8         63               13   \n",
            "...                ...     ...               ...        ...              ...   \n",
            "1321   12/26/2012 6:00   -13.4             -14.8         89                4   \n",
            "1322  12/28/2012 10:00    -6.1              -8.6         82               19   \n",
            "1323   12/29/2012 1:00   -11.9             -13.6         87               11   \n",
            "1324   12/29/2012 2:00   -11.8             -13.1         90               13   \n",
            "1325  12/30/2012 20:00   -13.8             -16.5         80               24   \n",
            "\n",
            "      Visibility_km  Press_kPa Weather  \n",
            "0              25.0     101.74   Clear  \n",
            "1              25.0     100.71   Clear  \n",
            "2              25.0     100.80   Clear  \n",
            "3              25.0     100.83   Clear  \n",
            "4              25.0     100.83   Clear  \n",
            "...             ...        ...     ...  \n",
            "1321           25.0     102.47   Clear  \n",
            "1322           24.1     101.27   Clear  \n",
            "1323           25.0     101.31   Clear  \n",
            "1324           25.0     101.33   Clear  \n",
            "1325           25.0     101.52   Clear  \n",
            "\n",
            "[1326 rows x 8 columns]\n"
          ]
        }
      ]
    },
    {
      "cell_type": "code",
      "source": [
        "# 2. Find the number of times the wind speed was exactly 4 km/hr.\n",
        "query_2 = \"\"\"\n",
        "SELECT COUNT(*) as count FROM weather\n",
        "WHERE `Wind Speed_km/h` = 4;\n",
        "\"\"\"\n",
        "wind_speed_4_count = pd.read_sql_query(query_2, conn)\n",
        "print(f\"Number of times the wind speed was exactly 4 km/hr: {wind_speed_4_count['count'][0]}\")\n"
      ],
      "metadata": {
        "colab": {
          "base_uri": "https://localhost:8080/"
        },
        "id": "Gi-cxAoBjVxi",
        "outputId": "05f4c5ef-1ba5-4116-fce2-a9cbe834070b"
      },
      "execution_count": 11,
      "outputs": [
        {
          "output_type": "stream",
          "name": "stdout",
          "text": [
            "Number of times the wind speed was exactly 4 km/hr: 474\n"
          ]
        }
      ]
    },
    {
      "source": [
        "# 3. Check if there are any NULL values present in the dataset.\n",
        "query_3 = \"\"\"\n",
        "SELECT\n",
        "    SUM(CASE WHEN [Date/Time] IS NULL THEN 1 ELSE 0 END) as Date_null, -- Changed 'Date' to '[Date/Time]'\n",
        "    SUM(CASE WHEN `Temp_C` IS NULL THEN 1 ELSE 0 END) as Temp_C_null,\n",
        "    SUM(CASE WHEN `Dew Point Temp_C` IS NULL THEN 1 ELSE 0 END) as Dew_Point_Temp_C_null,\n",
        "    SUM(CASE WHEN `Rel Hum_%` IS NULL THEN 1 ELSE 0 END) as Rel_Hum_null,\n",
        "    SUM(CASE WHEN `Wind Speed_km/h` IS NULL THEN 1 ELSE 0 END) as Wind_Speed_null,\n",
        "    SUM(CASE WHEN `Visibility_km` IS NULL THEN 1 ELSE 0 END) as Visibility_null,\n",
        "    SUM(CASE WHEN `Press_kPa` IS NULL THEN 1 ELSE 0 END) as Stn_Press_null,  -- Changed '`Stn Press_kPa`' to '`Press_kPa`'\n",
        "    SUM(CASE WHEN Weather IS NULL THEN 1 ELSE 0 END) as Weather_null\n",
        "FROM weather;\n",
        "\"\"\"\n",
        "null_values = pd.read_sql_query(query_3, conn)\n",
        "print(\"NULL values present in the dataset:\")\n",
        "print(null_values)"
      ],
      "cell_type": "code",
      "metadata": {
        "colab": {
          "base_uri": "https://localhost:8080/"
        },
        "id": "_MSv0wjcj-DZ",
        "outputId": "f2881c10-d584-4d14-b64a-4ccdd80c80d4"
      },
      "execution_count": 14,
      "outputs": [
        {
          "output_type": "stream",
          "name": "stdout",
          "text": [
            "NULL values present in the dataset:\n",
            "   Date_null  Temp_C_null  Dew_Point_Temp_C_null  Rel_Hum_null  \\\n",
            "0          0            0                      0             0   \n",
            "\n",
            "   Wind_Speed_null  Visibility_null  Stn_Press_null  Weather_null  \n",
            "0                0                0               0             0  \n"
          ]
        }
      ]
    },
    {
      "cell_type": "code",
      "source": [
        "# 4. What is the mean visibility of the dataset?\n",
        "query_4 = \"\"\"\n",
        "SELECT AVG(`Visibility_km`) as mean_visibility FROM weather;\n",
        "\"\"\"\n",
        "mean_visibility = pd.read_sql_query(query_4, conn)\n",
        "print(f\"Mean visibility of the dataset: {mean_visibility['mean_visibility'][0]}\")\n"
      ],
      "metadata": {
        "colab": {
          "base_uri": "https://localhost:8080/"
        },
        "id": "9JfVoHnHkKvR",
        "outputId": "6d18b67c-cba3-41d9-a9fb-fa30dfb5b739"
      },
      "execution_count": 15,
      "outputs": [
        {
          "output_type": "stream",
          "name": "stdout",
          "text": [
            "Mean visibility of the dataset: 27.66444672131151\n"
          ]
        }
      ]
    },
    {
      "cell_type": "code",
      "source": [
        "# Close the connection\n",
        "conn.close()"
      ],
      "metadata": {
        "id": "nuNJtqD8kOsR"
      },
      "execution_count": 16,
      "outputs": []
    }
  ]
}